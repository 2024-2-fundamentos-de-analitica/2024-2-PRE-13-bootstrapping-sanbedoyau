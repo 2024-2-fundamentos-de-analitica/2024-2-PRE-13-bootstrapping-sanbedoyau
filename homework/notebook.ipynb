{
 "cells": [
  {
   "cell_type": "code",
   "execution_count": null,
   "metadata": {},
   "outputs": [],
   "source": [
    "import os\n",
    "import matplotlib.pyplot as plt                     #  type: ignore\n",
    "import numpy as np                                  #  type: ignore\n",
    "import pandas as pd                                 #  type: ignore\n",
    "from sklearn.datasets import make_regression        #  type: ignore\n",
    "from sklearn.linear_model import LinearRegression   #  type: ignore\n",
    "from sklearn.neighbors import KernelDensity         #  type: ignore\n",
    "from tqdm import tqdm                               #  type: ignore"
   ]
  },
  {
   "cell_type": "markdown",
   "metadata": {},
   "source": [
    "## Parte 1: Simulación"
   ]
  },
  {
   "cell_type": "code",
   "execution_count": 2,
   "metadata": {},
   "outputs": [],
   "source": [
    "# Crear directorio de resultados\n",
    "def create_results_folder():\n",
    "    if not os.path.exists('../files/results'):\n",
    "        os.makedirs('../files/results')"
   ]
  },
  {
   "cell_type": "code",
   "execution_count": null,
   "metadata": {},
   "outputs": [],
   "source": [
    "# Generación de datos\n",
    "def generate_data():\n",
    "    X, y = make_regression(\n",
    "        n_samples = 100,\n",
    "        n_features = 3,\n",
    "        noise = 0.1,\n",
    "        random_state = 42\n",
    "    )\n",
    "    df = pd.DataFrame(X, columns = ['x1', 'x2', 'x3'])\n",
    "    df['dummy1'] = np.random.normal(0, 1, 100)\n",
    "    df['dummy2'] = np.random.normal(0, 1, 100)\n",
    "    df['y'] = y\n",
    "\n",
    "    return df"
   ]
  },
  {
   "cell_type": "code",
   "execution_count": null,
   "metadata": {},
   "outputs": [],
   "source": [
    "# Estimación de parámetros\n",
    "def get_model_params(df):\n",
    "    X = df[['x1', 'x2', 'x3', 'dummy1', 'dummy2']]\n",
    "    y = df['y']\n",
    "    model = LinearRegression().fit(X, y)\n",
    "    model = model.fit(X, y)\n",
    "    return {\n",
    "        'x1': model.coef_[0],\n",
    "        'x2': model.coef_[1],\n",
    "        'x3': model.coef_[2],\n",
    "        'dummy1': model.coef_[3],\n",
    "        'dummy2': model.coef_[4],\n",
    "        'intercept': model.intercept_\n",
    "    }"
   ]
  },
  {
   "cell_type": "code",
   "execution_count": null,
   "metadata": {},
   "outputs": [],
   "source": [
    "# Comenzar ciclo experimental\n",
    "def run_experiment(df, variable, n_runs):\n",
    "    # El primer experimento contiene los parametros del modelo\n",
    "    # sin permutar\n",
    "    results = []\n",
    "    params = get_model_params(df)\n",
    "    result = {'variable': variable, 'run': 0, 'value': params[variable]}\n",
    "    results.append(result)\n",
    "\n",
    "    for i_run in tqdm(range(1, n_runs)):\n",
    "        # Permuta la columna de interes y estima nuevamente\n",
    "        # los parametros del modelo\n",
    "        permuted_df = df.copy()\n",
    "        permuted_df[variable] = np.random.permutation(permuted_df[variable].values)\n",
    "        params = get_model_params(permuted_df)\n",
    "        result = {'variable': variable, 'run': i_run, 'value': params[variable]}\n",
    "        results.append(result)\n",
    "\n",
    "    return pd.DataFrame(results)"
   ]
  },
  {
   "cell_type": "code",
   "execution_count": 7,
   "metadata": {},
   "outputs": [],
   "source": [
    "# Correr las simulaciones\n",
    "def run_experiments(df, n_runs):\n",
    "    df = generate_data()\n",
    "    variables = ['x1', 'x2', 'x3', 'dummy1', 'dummy2']\n",
    "    results = pd.concat([run_experiment(df, variable, n_runs) for variable in variables])\n",
    "    return results"
   ]
  },
  {
   "cell_type": "code",
   "execution_count": 11,
   "metadata": {},
   "outputs": [],
   "source": [
    "# Simulación\n",
    "def run_simulation(n_runs):\n",
    "    create_results_folder()\n",
    "    df = generate_data()\n",
    "    experiments = run_experiments(df, n_runs)\n",
    "    experiments['run'] = experiments['run'].astype(int)\n",
    "    experiments.to_csv('../files/results/experiments.csv', index = False)"
   ]
  },
  {
   "cell_type": "code",
   "execution_count": 12,
   "metadata": {},
   "outputs": [
    {
     "name": "stderr",
     "output_type": "stream",
     "text": [
      "100%|██████████| 999/999 [00:03<00:00, 254.71it/s]\n",
      "100%|██████████| 999/999 [00:04<00:00, 222.89it/s]\n",
      "100%|██████████| 999/999 [00:04<00:00, 204.25it/s]\n",
      "100%|██████████| 999/999 [00:05<00:00, 173.89it/s]\n",
      "100%|██████████| 999/999 [00:06<00:00, 150.56it/s]\n"
     ]
    }
   ],
   "source": [
    "run_simulation(n_runs = 1000)"
   ]
  },
  {
   "cell_type": "markdown",
   "metadata": {},
   "source": [
    "## Parte 2: Análisis"
   ]
  },
  {
   "cell_type": "code",
   "execution_count": null,
   "metadata": {},
   "outputs": [],
   "source": [
    "def compute_stats():\n",
    "\n",
    "    experiments = pd.read_csv(\"../files/results/experiments.csv\")\n",
    "\n",
    "    # Extrae el coeficiente estimado para cada variable con el dataset\n",
    "    # original\n",
    "    current_values = experiments.loc[experiments[\"run\"] == 0].copy()\n",
    "    current_values = current_values.drop(columns=[\"run\"])\n",
    "    current_values = current_values.rename(columns={\"value\": \"original\"})\n",
    "    current_values = current_values.set_index(\"variable\")\n",
    "\n",
    "    # Calcula los estadísticos descriptivos para cada variable\n",
    "    stats = experiments[[\"variable\", \"value\"]].groupby([\"variable\"]).describe()\n",
    "    stats.columns = stats.columns.droplevel(0)\n",
    "\n",
    "    # Agrega el valor original\n",
    "    stats = stats.join(current_values, on=\"variable\")\n",
    "\n",
    "    # Genera el reporte\n",
    "    with open(\"../files/results/stats.txt\", \"w\") as file:\n",
    "        file.write(stats.to_string())\n",
    "    stats.to_csv(\"../files/results/stats.csv\")"
   ]
  },
  {
   "cell_type": "code",
   "execution_count": 14,
   "metadata": {},
   "outputs": [],
   "source": [
    "compute_stats()"
   ]
  },
  {
   "cell_type": "code",
   "execution_count": null,
   "metadata": {},
   "outputs": [],
   "source": []
  }
 ],
 "metadata": {
  "kernelspec": {
   "display_name": ".venv",
   "language": "python",
   "name": "python3"
  },
  "language_info": {
   "codemirror_mode": {
    "name": "ipython",
    "version": 3
   },
   "file_extension": ".py",
   "mimetype": "text/x-python",
   "name": "python",
   "nbconvert_exporter": "python",
   "pygments_lexer": "ipython3",
   "version": "3.11.9"
  }
 },
 "nbformat": 4,
 "nbformat_minor": 2
}
